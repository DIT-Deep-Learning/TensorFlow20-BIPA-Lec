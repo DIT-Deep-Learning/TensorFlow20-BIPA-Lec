{
 "cells": [
  {
   "cell_type": "markdown",
   "metadata": {},
   "source": [
    "## Sequential() 모델 구성"
   ]
  },
  {
   "cell_type": "code",
   "execution_count": 8,
   "metadata": {
    "collapsed": true
   },
   "outputs": [
    {
     "data": {
      "image/png": "[encoded data removed]",
      "text/plain": [
       "<IPython.core.display.Image object>"
      ]
     },
     "execution_count": 8,
     "metadata": {},
     "output_type": "execute_result"
    }
   ],
   "source": [
    "from tensorflow.keras.models import Sequential\n",
    "from tensorflow.keras.layers import Conv2D, MaxPooling2D, Dense, GlobalAveragePooling2D\n",
    "from tensorflow.keras.utils import plot_model\n",
    "\n",
    "# Sequential()을 통한 모델 구성\n",
    "model = Sequential()\n",
    "model.add(Conv2D(32, (3, 3), activation = 'relu', input_shape = (28, 28, 1)))\n",
    "model.add(Conv2D(32, (3, 3), activation = 'relu'))\n",
    "model.add(MaxPooling2D(strides = 2))\n",
    "model.add(GlobalAveragePooling2D())\n",
    "model.add(Dense(1, activation = 'sigmoid'))\n",
    "\n",
    "# model.summary() # 모델 구조를 확인하는 습관은 좋은 습관입니다.\n",
    "# 모델을 그려봅니다.\n",
    "plot_model(model)"
   ]
  },
  {
   "cell_type": "markdown",
   "metadata": {},
   "source": [
    "## 서브클래싱 모델 구성"
   ]
  },
  {
   "cell_type": "code",
   "execution_count": 10,
   "metadata": {},
   "outputs": [],
   "source": [
    "from tensorflow.keras.models import Model\n",
    "from tensorflow.keras.layers import Conv2D, MaxPooling2D, Dense, GlobalAveragePooling2D\n",
    "\n",
    "class MyModel(Model):\n",
    "    # 사용할 층을 정의합니다.\n",
    "    def __init__(self):\n",
    "        super(MyModel, self).__init__()\n",
    "        \n",
    "        self.first_conv = Conv2D(32, (3, 3), activation = 'relu')\n",
    "        self.second_conv = Conv2D(32, (3, 3), activation = 'relu')\n",
    "        self.maxpool = MaxPooling2D(strides = 2)\n",
    "        \n",
    "        self.gap = GlobalAveragePooling2D()\n",
    "        self.dense = Dense(1, activation = 'sigmoid')\n",
    "        \n",
    "    # 입력 -> 출력의 흐름을 구성합니다.\n",
    "    def call(self, inputs):\n",
    "        x = self.first_conv(inputs)\n",
    "        x = self.second_conv(x)\n",
    "        x = self.maxpool(x)\n",
    "        \n",
    "        x = self.gap(x)\n",
    "        x = self.dense(x)\n",
    "        \n",
    "        return x\n",
    "\n",
    "# 모델 객체를 생성합니다.\n",
    "model = MyModel()\n",
    "model.compile(~)\n",
    "model.fit(~)"
   ]
  },
  {
   "cell_type": "markdown",
   "metadata": {},
   "source": [
    "## 함수형 API 모델 구성하기"
   ]
  },
  {
   "cell_type": "code",
   "execution_count": null,
   "metadata": {},
   "outputs": [],
   "source": [
    "from tensorflow.keras.models import Model\n",
    "from tensorflow.keras.layers import Conv2D, MaxPooling2D, GlobalAveragePooling2D, Dense\n",
    "from tensorflow.keras.layers import Input\n",
    "from tensorflow.keras.utils import plot_model\n",
    "\n",
    "# 함수형 API는 Input()을 통해 입력값의 형태를 정의해주어야 합니다.\n",
    "inputs = Input(shape = (224, 224, 3))\n",
    "x = Conv2D(32, (3, 3), activation = 'relu')(inputs)\n",
    "x = Conv2D(32, (3, 3), activation = 'relu')(x)\n",
    "x = MaxPooling2D(strides = 2)(x)\n",
    "x = GlobalAveragePooling2D()(x)\n",
    "x = Dense(1, activation = 'sigmoid')(x)\n",
    "\n",
    "# 위에서 정의한 층을 포함하고 있는 모델을 생성합니다.\n",
    "model = Model(inputs = inputs, outputs = x)"
   ]
  }
 ],
 "metadata": {
  "kernelspec": {
   "display_name": "keras_study",
   "language": "python",
   "name": "keras_study"
  },
  "language_info": {
   "codemirror_mode": {
    "name": "ipython",
    "version": 3
   },
   "file_extension": ".py",
   "mimetype": "text/x-python",
   "name": "python",
   "nbconvert_exporter": "python",
   "pygments_lexer": "ipython3",
   "version": "3.7.3"
  }
 },
 "nbformat": 4,
 "nbformat_minor": 2
}
