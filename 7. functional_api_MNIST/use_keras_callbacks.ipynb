{
 "cells": [
  {
   "cell_type": "markdown",
   "metadata": {},
   "source": [
    "## 케라스 콜백 사용 준비하기"
   ]
  },
  {
   "cell_type": "code",
   "execution_count": 1,
   "metadata": {},
   "outputs": [],
   "source": [
    "from tensorflow.keras.datasets import mnist\n",
    "\n",
    "# 텐서플로우 저장소에서 데이터를 다운로드 받습니다.\n",
    "(x_train, y_train), (x_test, y_test) = mnist.load_data(path='mnist.npz')\n",
    "\n",
    "from sklearn.model_selection import train_test_split\n",
    "\n",
    "# 훈련/검증 데이터를 얻기 위해 0.7/0.3의 비율로 분리합니다.\n",
    "x_train, x_val, y_train, y_val = train_test_split(x_train, y_train, test_size = 0.3, random_state = 777)\n",
    "\n",
    "num_x_train = x_train.shape[0]\n",
    "num_x_val = x_val.shape[0]\n",
    "num_x_test = x_test.shape[0]\n",
    "\n",
    "# 모델의 입력으로 사용하기 위한 전처리 과정입니다.\n",
    "x_train = (x_train.reshape(-1, 28, 28, 1)) / 255\n",
    "x_val = (x_val.reshape(-1, 28, 28, 1)) / 255\n",
    "x_test = (x_test.reshape(-1, 28, 28, 1)) / 255\n",
    "\n",
    "from tensorflow.keras.utils import to_categorical\n",
    "\n",
    "# 각 데이터의 레이블을 범주형 형태로 변경합니다.\n",
    "y_train = to_categorical(y_train)\n",
    "y_val = to_categorical(y_val)\n",
    "y_test = to_categorical(y_test)\n",
    "\n",
    "from tensorflow.keras.models import Model\n",
    "from tensorflow.keras.layers import Conv2D, MaxPooling2D, GlobalAveragePooling2D, Dense\n",
    "from tensorflow.keras.layers import Input\n",
    "\n",
    "# 함수형 API는 Input()을 통해 입력값의 형태를 정의해주어야 합니다.\n",
    "inputs = Input(shape = (28, 28, 1))\n",
    "x = Conv2D(32, (3, 3), activation = 'relu')(inputs)\n",
    "x = Conv2D(32, (3, 3), activation = 'relu')(x)\n",
    "x = MaxPooling2D(strides = 2)(x)\n",
    "x = GlobalAveragePooling2D()(x)\n",
    "x = Dense(10, activation = 'softmax')(x)\n",
    "\n",
    "# 위에서 정의한 층을 포함하고 있는 모델을 생성합니다.\n",
    "model = Model(inputs = inputs, outputs = x)\n",
    "\n",
    "model.compile(optimizer = 'adam', \n",
    "              loss = 'categorical_crossentropy',\n",
    "              metrics = ['acc'])"
   ]
  },
  {
   "cell_type": "markdown",
   "metadata": {},
   "source": [
    "## ModelCheckpoint 콜백 사용하기"
   ]
  },
  {
   "cell_type": "code",
   "execution_count": null,
   "metadata": {
    "scrolled": true
   },
   "outputs": [],
   "source": [
    "from tensorflow.keras.callbacks import ModelCheckpoint\n",
    "\n",
    "filepath = './best_model.hdf5'\n",
    "\n",
    "# 콜백을 정의합니다.\n",
    "callbacks = [ModelCheckpoint(filepath = filepath, monitor = 'val_loss', verbose = 1,\n",
    "                           save_best_only = True)]\n",
    "\n",
    "# callbacks 인자를 통해 정의한 콜백을 전달합니다.\n",
    "model.fit(x_train, y_train,\n",
    "         batch_size = 32,\n",
    "         validation_data = (x_val, y_val),\n",
    "         epochs = 10,\n",
    "         callbacks = callbacks)"
   ]
  },
  {
   "cell_type": "markdown",
   "metadata": {},
   "source": [
    "## EarlyStopping 콜백 사용하기"
   ]
  },
  {
   "cell_type": "code",
   "execution_count": null,
   "metadata": {
    "scrolled": true
   },
   "outputs": [],
   "source": [
    "from tensorflow.keras.callbacks import EarlyStopping\n",
    "\n",
    "# 콜백을 정의합니다.\n",
    "callbacks = [EarlyStopping(monitor = 'val_loss', patience = 3, verbose = 1)]\n",
    "\n",
    "# callbacks 인자를 통해 정의한 콜백을 전달합니다.\n",
    "model.fit(x_train, y_train,\n",
    "         batch_size = 32,\n",
    "         validation_data = (x_val, y_val),\n",
    "         epochs = 30,\n",
    "         callbacks = callbacks)"
   ]
  },
  {
   "cell_type": "markdown",
   "metadata": {},
   "source": [
    "## ReduceLROnPlataeu 콜백 사용하기"
   ]
  },
  {
   "cell_type": "code",
   "execution_count": null,
   "metadata": {},
   "outputs": [],
   "source": [
    "from tensorflow.keras.callbacks import ReduceLROnPlateau\n",
    "\n",
    "# 콜백을 정의합니다.\n",
    "callbacks = [ReduceLROnPlateau(monitor = 'val_loss', patience = 3, factor = 0.2, \n",
    "                               verbose = 1, min_lr = 1e-5)]\n",
    "\n",
    "# callbacks 인자를 통해 정의한 콜백을 전달합니다.\n",
    "model.fit(x_train, y_train,\n",
    "         batch_size = 32,\n",
    "         validation_data = (x_val, y_val),\n",
    "         epochs = 50,\n",
    "         callbacks = callbacks)"
   ]
  },
  {
   "cell_type": "markdown",
   "metadata": {},
   "source": [
    "## TensorBoard 콜백 사용하기"
   ]
  },
  {
   "cell_type": "code",
   "execution_count": 3,
   "metadata": {
    "scrolled": true
   },
   "outputs": [
    {
     "name": "stdout",
     "output_type": "stream",
     "text": [
      "Train on 42000 samples, validate on 18000 samples\n",
      "Epoch 1/30\n",
      "42000/42000 [==============================] - 31s 742us/sample - loss: 1.7197 - acc: 0.3655 - val_loss: 1.4697 - val_acc: 0.4813\n",
      "Epoch 2/30\n",
      "42000/42000 [==============================] - 32s 757us/sample - loss: 1.2949 - acc: 0.5592 - val_loss: 1.1532 - val_acc: 0.6322\n",
      "Epoch 3/30\n",
      "42000/42000 [==============================] - 32s 772us/sample - loss: 1.0352 - acc: 0.6750 - val_loss: 0.9401 - val_acc: 0.7022\n",
      "Epoch 4/30\n",
      "42000/42000 [==============================] - 30s 724us/sample - loss: 0.8531 - acc: 0.7413 - val_loss: 0.8018 - val_acc: 0.7436\n",
      "Epoch 5/30\n",
      "42000/42000 [==============================] - 31s 730us/sample - loss: 0.7318 - acc: 0.7803 - val_loss: 0.7058 - val_acc: 0.7861\n",
      "Epoch 6/30\n",
      "42000/42000 [==============================] - 31s 728us/sample - loss: 0.6493 - acc: 0.8035 - val_loss: 0.6193 - val_acc: 0.8114\n",
      "Epoch 7/30\n",
      "42000/42000 [==============================] - 30s 717us/sample - loss: 0.5954 - acc: 0.8180 - val_loss: 0.5858 - val_acc: 0.8191\n",
      "Epoch 8/30\n",
      "42000/42000 [==============================] - 30s 719us/sample - loss: 0.5525 - acc: 0.8303 - val_loss: 0.5537 - val_acc: 0.8321\n",
      "Epoch 9/30\n",
      "42000/42000 [==============================] - 30s 719us/sample - loss: 0.5232 - acc: 0.8392 - val_loss: 0.5186 - val_acc: 0.8437\n",
      "Epoch 10/30\n",
      "42000/42000 [==============================] - 30s 721us/sample - loss: 0.4961 - acc: 0.8466 - val_loss: 0.4669 - val_acc: 0.8603\n",
      "Epoch 11/30\n",
      "42000/42000 [==============================] - 30s 713us/sample - loss: 0.4734 - acc: 0.8524 - val_loss: 0.4572 - val_acc: 0.8602\n",
      "Epoch 12/30\n",
      "42000/42000 [==============================] - 30s 720us/sample - loss: 0.4519 - acc: 0.8604 - val_loss: 0.4496 - val_acc: 0.8596\n",
      "Epoch 13/30\n",
      "42000/42000 [==============================] - 30s 717us/sample - loss: 0.4340 - acc: 0.8651 - val_loss: 0.4846 - val_acc: 0.8471\n",
      "Epoch 14/30\n",
      "42000/42000 [==============================] - 30s 705us/sample - loss: 0.4175 - acc: 0.8717 - val_loss: 0.4364 - val_acc: 0.8676\n",
      "Epoch 15/30\n",
      "42000/42000 [==============================] - 29s 698us/sample - loss: 0.4026 - acc: 0.8755 - val_loss: 0.4144 - val_acc: 0.8758\n",
      "Epoch 16/30\n",
      "42000/42000 [==============================] - 30s 703us/sample - loss: 0.3863 - acc: 0.8809 - val_loss: 0.3832 - val_acc: 0.8840\n",
      "Epoch 17/30\n",
      "42000/42000 [==============================] - 29s 699us/sample - loss: 0.3747 - acc: 0.8859 - val_loss: 0.4340 - val_acc: 0.8646\n",
      "Epoch 18/30\n",
      "42000/42000 [==============================] - 29s 700us/sample - loss: 0.3628 - acc: 0.8876 - val_loss: 0.3530 - val_acc: 0.8953\n",
      "Epoch 19/30\n",
      "42000/42000 [==============================] - 30s 712us/sample - loss: 0.3489 - acc: 0.8925 - val_loss: 0.3449 - val_acc: 0.8998\n",
      "Epoch 20/30\n",
      "42000/42000 [==============================] - 31s 739us/sample - loss: 0.3415 - acc: 0.8945 - val_loss: 0.3579 - val_acc: 0.8924\n",
      "Epoch 21/30\n",
      "42000/42000 [==============================] - 30s 724us/sample - loss: 0.3341 - acc: 0.8974 - val_loss: 0.3252 - val_acc: 0.9021\n",
      "Epoch 22/30\n",
      "42000/42000 [==============================] - 31s 727us/sample - loss: 0.3253 - acc: 0.9015 - val_loss: 0.3320 - val_acc: 0.8969\n",
      "Epoch 23/30\n",
      "42000/42000 [==============================] - 30s 725us/sample - loss: 0.3166 - acc: 0.9035 - val_loss: 0.3025 - val_acc: 0.9102\n",
      "Epoch 24/30\n",
      "42000/42000 [==============================] - 30s 709us/sample - loss: 0.3088 - acc: 0.9056 - val_loss: 0.3103 - val_acc: 0.9081\n",
      "Epoch 25/30\n",
      "42000/42000 [==============================] - 30s 707us/sample - loss: 0.2989 - acc: 0.9092 - val_loss: 0.2841 - val_acc: 0.9158\n",
      "Epoch 26/30\n",
      "42000/42000 [==============================] - 31s 741us/sample - loss: 0.2965 - acc: 0.9087 - val_loss: 0.3137 - val_acc: 0.9059\n",
      "Epoch 27/30\n",
      "42000/42000 [==============================] - 35s 832us/sample - loss: 0.2892 - acc: 0.9117 - val_loss: 0.2978 - val_acc: 0.9109\n",
      "Epoch 28/30\n",
      "42000/42000 [==============================] - 37s 873us/sample - loss: 0.2816 - acc: 0.9151 - val_loss: 0.2850 - val_acc: 0.9171\n",
      "Epoch 29/30\n",
      "42000/42000 [==============================] - 35s 844us/sample - loss: 0.2787 - acc: 0.9150 - val_loss: 0.2658 - val_acc: 0.9212\n",
      "Epoch 30/30\n",
      "42000/42000 [==============================] - 37s 870us/sample - loss: 0.2730 - acc: 0.9181 - val_loss: 0.2581 - val_acc: 0.9250\n"
     ]
    },
    {
     "data": {
      "text/plain": [
       "<tensorflow.python.keras.callbacks.History at 0x15e24b8d0>"
      ]
     },
     "execution_count": 3,
     "metadata": {},
     "output_type": "execute_result"
    }
   ],
   "source": [
    "from tensorflow.keras.callbacks import TensorBoard\n",
    "\n",
    "logdir = './logs'\n",
    "\n",
    "# 콜백을 정의합니다.\n",
    "callbacks = [TensorBoard(log_dir = logdir, histogram_freq = 1, \n",
    "                        write_graph = True, write_images = True)]\n",
    "\n",
    "# callbacks 인자를 통해 정의한 콜백을 전달합니다.\n",
    "model.fit(x_train, y_train,\n",
    "         batch_size = 32,\n",
    "         validation_data = (x_val, y_val),\n",
    "         epochs = 30,\n",
    "         callbacks = callbacks)"
   ]
  },
  {
   "cell_type": "markdown",
   "metadata": {},
   "source": [
    "## Tensorboard 실행"
   ]
  },
  {
   "cell_type": "code",
   "execution_count": 14,
   "metadata": {},
   "outputs": [],
   "source": [
    "!tensorboard dev upload --logdir ./logs/ --name \"My test\" --description \"This is my first tensorboard\""
   ]
  }
 ],
 "metadata": {
  "kernelspec": {
   "display_name": "keras_study",
   "language": "python",
   "name": "keras_study"
  },
  "language_info": {
   "codemirror_mode": {
    "name": "ipython",
    "version": 3
   },
   "file_extension": ".py",
   "mimetype": "text/x-python",
   "name": "python",
   "nbconvert_exporter": "python",
   "pygments_lexer": "ipython3",
   "version": "3.7.3"
  }
 },
 "nbformat": 4,
 "nbformat_minor": 2
}
