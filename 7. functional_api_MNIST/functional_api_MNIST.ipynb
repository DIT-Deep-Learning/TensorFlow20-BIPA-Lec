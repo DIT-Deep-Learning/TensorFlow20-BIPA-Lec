{
 "cells": [
  {
   "cell_type": "markdown",
   "metadata": {},
   "source": [
    "## MNIST 데이터셋 불러오기 및 전처리"
   ]
  },
  {
   "cell_type": "code",
   "execution_count": 3,
   "metadata": {},
   "outputs": [],
   "source": [
    "from tensorflow.keras.datasets import mnist\n",
    "\n",
    "# 텐서플로우 저장소에서 데이터를 다운로드 받습니다.\n",
    "(x_train, y_train), (x_test, y_test) = mnist.load_data(path='mnist.npz')\n",
    "\n",
    "from sklearn.model_selection import train_test_split\n",
    "\n",
    "# 훈련/검증 데이터를 얻기 위해 0.7/0.3의 비율로 분리합니다.\n",
    "x_train, x_val, y_train, y_val = train_test_split(x_train, y_train, \n",
    "                                                  test_size = 0.3, \n",
    "                                                  random_state = 777)\n",
    "\n",
    "num_x_train = x_train.shape[0]\n",
    "num_x_val = x_val.shape[0]\n",
    "num_x_test = x_test.shape[0]\n",
    "\n",
    "# 모델의 입력으로 사용하기 위한 전처리 과정입니다.\n",
    "x_train = (x_train.reshape(-1, 28, 28, 1))/255\n",
    "x_val = (x_val.reshape(-1, 28, 28, 1))/255\n",
    "x_test = (x_test.reshape(-1, 28, 28, 1))/255\n",
    "\n",
    "from tensorflow.keras.utils import to_categorical\n",
    "\n",
    "# 각 데이터의 레이블을 범주형 형태로 변경합니다.\n",
    "y_train = to_categorical(y_train)\n",
    "y_val = to_categorical(y_val)\n",
    "y_test = to_categorical(y_test)"
   ]
  },
  {
   "cell_type": "markdown",
   "metadata": {},
   "source": [
    "## 함수형 API를 활용한 모델 구성 및 학습"
   ]
  },
  {
   "cell_type": "code",
   "execution_count": 6,
   "metadata": {
    "collapsed": true
   },
   "outputs": [
    {
     "name": "stdout",
     "output_type": "stream",
     "text": [
      "Train on 42000 samples, validate on 18000 samples\n",
      "Epoch 1/10\n",
      "42000/42000 [==============================] - 9s 209us/sample - loss: 1.6784 - acc: 0.3993 - val_loss: 1.3478 - val_acc: 0.5314\n",
      "Epoch 2/10\n",
      "42000/42000 [==============================] - 8s 189us/sample - loss: 1.1965 - acc: 0.6080 - val_loss: 1.0711 - val_acc: 0.6798\n",
      "Epoch 3/10\n",
      "42000/42000 [==============================] - 8s 188us/sample - loss: 0.9373 - acc: 0.7175 - val_loss: 0.8227 - val_acc: 0.7629\n",
      "Epoch 4/10\n",
      "42000/42000 [==============================] - 8s 188us/sample - loss: 0.7460 - acc: 0.7822 - val_loss: 0.6606 - val_acc: 0.8138\n",
      "Epoch 5/10\n",
      "42000/42000 [==============================] - 8s 192us/sample - loss: 0.6208 - acc: 0.8204 - val_loss: 0.5691 - val_acc: 0.8332\n",
      "Epoch 6/10\n",
      "42000/42000 [==============================] - 8s 191us/sample - loss: 0.5353 - acc: 0.8427 - val_loss: 0.4789 - val_acc: 0.8672\n",
      "Epoch 7/10\n",
      "42000/42000 [==============================] - 8s 191us/sample - loss: 0.4734 - acc: 0.8610 - val_loss: 0.4410 - val_acc: 0.8723\n",
      "Epoch 8/10\n",
      "42000/42000 [==============================] - 8s 190us/sample - loss: 0.4256 - acc: 0.8752 - val_loss: 0.4023 - val_acc: 0.8825\n",
      "Epoch 9/10\n",
      "42000/42000 [==============================] - 8s 202us/sample - loss: 0.3918 - acc: 0.8837 - val_loss: 0.3758 - val_acc: 0.8894\n",
      "Epoch 10/10\n",
      "42000/42000 [==============================] - 9s 219us/sample - loss: 0.3674 - acc: 0.8893 - val_loss: 0.3714 - val_acc: 0.8886\n"
     ]
    },
    {
     "data": {
      "text/plain": [
       "<tensorflow.python.keras.callbacks.History at 0x16c986e8518>"
      ]
     },
     "execution_count": 6,
     "metadata": {},
     "output_type": "execute_result"
    }
   ],
   "source": [
    "from tensorflow.keras.models import Model\n",
    "from tensorflow.keras.layers import Conv2D, MaxPooling2D, GlobalAveragePooling2D, Dense\n",
    "from tensorflow.keras.layers import Input\n",
    "\n",
    "# 함수형 API는 Input()을 통해 입력값의 형태를 정의해주어야 합니다.\n",
    "inputs = Input(shape = (28, 28, 1))\n",
    "x = Conv2D(32, (3, 3), activation = 'relu')(inputs)\n",
    "x = Conv2D(32, (3, 3), activation = 'relu')(x)\n",
    "x = MaxPooling2D(strides = 2)(x)\n",
    "x = GlobalAveragePooling2D()(x)\n",
    "x = Dense(10, activation = 'softmax')(x)\n",
    "\n",
    "# 위에서 정의한 층을 포함하고 있는 모델을 생성합니다.\n",
    "model = Model(inputs = inputs, outputs = x)\n",
    "\n",
    "model.compile(optimizer = 'adam', \n",
    "              loss = 'categorical_crossentropy',\n",
    "              metrics = ['acc'])\n",
    "model.fit(x_train, y_train,\n",
    "         batch_size = 32,\n",
    "         validation_data = (x_val, y_val),\n",
    "         epochs = 10)"
   ]
  },
  {
   "cell_type": "code",
   "execution_count": null,
   "metadata": {},
   "outputs": [],
   "source": []
  }
 ],
 "metadata": {
  "kernelspec": {
   "display_name": "keras_study",
   "language": "python",
   "name": "keras_study"
  },
  "language_info": {
   "codemirror_mode": {
    "name": "ipython",
    "version": 3
   },
   "file_extension": ".py",
   "mimetype": "text/x-python",
   "name": "python",
   "nbconvert_exporter": "python",
   "pygments_lexer": "ipython3",
   "version": "3.7.3"
  }
 },
 "nbformat": 4,
 "nbformat_minor": 2
}
